{
 "cells": [
  {
   "cell_type": "markdown",
   "metadata": {},
   "source": [
    "## Cross-Sectional Analysis of mPDS vs. Traditional Rating Scales"
   ]
  },
  {
   "cell_type": "code",
   "execution_count": 136,
   "metadata": {
    "collapsed": false
   },
   "outputs": [],
   "source": [
    "import numpy as np\n",
    "import pandas as pd\n",
    "from pandasql import sqldf\n",
    "import matplotlib.pyplot as plt\n",
    "import math\n",
    "from scipy.stats import pearsonr"
   ]
  },
  {
   "cell_type": "markdown",
   "metadata": {},
   "source": [
    "Read from the two .csv files below to extract the mPDS scores and UPDRS score data."
   ]
  },
  {
   "cell_type": "code",
   "execution_count": 137,
   "metadata": {
    "collapsed": true
   },
   "outputs": [],
   "source": [
    "tap2filt = pd.read_csv('__tap2_filt_openSource.csv',parse_dates=[['event_date', 'event_time']])\n",
    "tap2filt = tap2filt.rename(columns = {'pdss':'mPDS'})\n",
    "updrsnew = pd.read_csv('__updrs_new_openSource.csv',parse_dates=[['event_date', 'event_time']])"
   ]
  },
  {
   "cell_type": "markdown",
   "metadata": {},
   "source": [
    "Below is a view of the recorded mPDS data. The learned mPDS scores are recorded in the last column (mPDS). Included as well are the raw mPDS scores computed for each test separately, before being weighted and scaled between 0-100 to generate the final, scaled mPDS score. Included here as well is a view of the features extracted from the different active test modalities via smartphone sensors and these measurements' associated timestamps."
   ]
  },
  {
   "cell_type": "code",
   "execution_count": 138,
   "metadata": {
    "collapsed": false
   },
   "outputs": [
    {
     "data": {
      "text/plain": [
       "(407, 450)"
      ]
     },
     "execution_count": 138,
     "metadata": {},
     "output_type": "execute_result"
    }
   ],
   "source": [
    "tap2filt.shape"
   ]
  },
  {
   "cell_type": "code",
   "execution_count": 139,
   "metadata": {
    "collapsed": false
   },
   "outputs": [
    {
     "data": {
      "text/html": [
       "<div>\n",
       "<table border=\"1\" class=\"dataframe\">\n",
       "  <thead>\n",
       "    <tr style=\"text-align: right;\">\n",
       "      <th></th>\n",
       "      <th>event_date_event_time</th>\n",
       "      <th>length</th>\n",
       "      <th>amp_mean</th>\n",
       "      <th>amp_std</th>\n",
       "      <th>amp_p1_1</th>\n",
       "      <th>amp_p1_0</th>\n",
       "      <th>amp_p2_2</th>\n",
       "      <th>amp_p2_1</th>\n",
       "      <th>amp_p2_0</th>\n",
       "      <th>amp_dfa</th>\n",
       "      <th>...</th>\n",
       "      <th>touch_meanTKEO</th>\n",
       "      <th>touch_dfa</th>\n",
       "      <th>tap_test</th>\n",
       "      <th>scores</th>\n",
       "      <th>scores_voice</th>\n",
       "      <th>scores_balance</th>\n",
       "      <th>scores_gait</th>\n",
       "      <th>scores_tap</th>\n",
       "      <th>scores_react</th>\n",
       "      <th>mPDS</th>\n",
       "    </tr>\n",
       "  </thead>\n",
       "  <tbody>\n",
       "    <tr>\n",
       "      <th>0</th>\n",
       "      <td>2016-03-23 07:59:40</td>\n",
       "      <td>9.5</td>\n",
       "      <td>0.067813</td>\n",
       "      <td>0.026396</td>\n",
       "      <td>-0.005764</td>\n",
       "      <td>0.145629</td>\n",
       "      <td>0.001648</td>\n",
       "      <td>-0.050265</td>\n",
       "      <td>0.432412</td>\n",
       "      <td>1.147517</td>\n",
       "      <td>...</td>\n",
       "      <td>0.015370</td>\n",
       "      <td>0.308298</td>\n",
       "      <td>test3</td>\n",
       "      <td>5.142853</td>\n",
       "      <td>0.793692</td>\n",
       "      <td>-0.149937</td>\n",
       "      <td>2.748769</td>\n",
       "      <td>1.593229</td>\n",
       "      <td>0.157100</td>\n",
       "      <td>81.002964</td>\n",
       "    </tr>\n",
       "    <tr>\n",
       "      <th>1</th>\n",
       "      <td>2016-03-23 13:26:02</td>\n",
       "      <td>4.5</td>\n",
       "      <td>0.235636</td>\n",
       "      <td>0.053323</td>\n",
       "      <td>0.009891</td>\n",
       "      <td>-0.036371</td>\n",
       "      <td>-0.001589</td>\n",
       "      <td>0.097261</td>\n",
       "      <td>-1.233078</td>\n",
       "      <td>0.517663</td>\n",
       "      <td>...</td>\n",
       "      <td>0.094008</td>\n",
       "      <td>0.460559</td>\n",
       "      <td>test3</td>\n",
       "      <td>8.361742</td>\n",
       "      <td>3.255178</td>\n",
       "      <td>-0.038168</td>\n",
       "      <td>3.901675</td>\n",
       "      <td>1.091663</td>\n",
       "      <td>0.151393</td>\n",
       "      <td>100.000000</td>\n",
       "    </tr>\n",
       "    <tr>\n",
       "      <th>2</th>\n",
       "      <td>2016-03-23 17:21:20</td>\n",
       "      <td>14.0</td>\n",
       "      <td>0.291795</td>\n",
       "      <td>0.038108</td>\n",
       "      <td>-0.001067</td>\n",
       "      <td>0.307805</td>\n",
       "      <td>-0.000465</td>\n",
       "      <td>0.012893</td>\n",
       "      <td>0.211787</td>\n",
       "      <td>0.933830</td>\n",
       "      <td>...</td>\n",
       "      <td>0.010415</td>\n",
       "      <td>0.948880</td>\n",
       "      <td>test3</td>\n",
       "      <td>-0.802608</td>\n",
       "      <td>-0.315440</td>\n",
       "      <td>-0.122640</td>\n",
       "      <td>1.740213</td>\n",
       "      <td>-2.382753</td>\n",
       "      <td>0.278012</td>\n",
       "      <td>37.027620</td>\n",
       "    </tr>\n",
       "    <tr>\n",
       "      <th>3</th>\n",
       "      <td>2016-04-21 08:36:39</td>\n",
       "      <td>14.0</td>\n",
       "      <td>0.045532</td>\n",
       "      <td>0.008919</td>\n",
       "      <td>0.000680</td>\n",
       "      <td>0.035331</td>\n",
       "      <td>-0.000069</td>\n",
       "      <td>0.002736</td>\n",
       "      <td>0.021193</td>\n",
       "      <td>0.665919</td>\n",
       "      <td>...</td>\n",
       "      <td>0.053223</td>\n",
       "      <td>0.675082</td>\n",
       "      <td>test3</td>\n",
       "      <td>5.652584</td>\n",
       "      <td>0.974179</td>\n",
       "      <td>-0.377330</td>\n",
       "      <td>4.147430</td>\n",
       "      <td>0.860689</td>\n",
       "      <td>0.047615</td>\n",
       "      <td>84.773169</td>\n",
       "    </tr>\n",
       "    <tr>\n",
       "      <th>4</th>\n",
       "      <td>2016-04-21 14:25:52</td>\n",
       "      <td>11.5</td>\n",
       "      <td>0.063901</td>\n",
       "      <td>0.007733</td>\n",
       "      <td>-0.002030</td>\n",
       "      <td>0.089274</td>\n",
       "      <td>0.000057</td>\n",
       "      <td>-0.003459</td>\n",
       "      <td>0.097524</td>\n",
       "      <td>1.504484</td>\n",
       "      <td>...</td>\n",
       "      <td>0.004951</td>\n",
       "      <td>0.463658</td>\n",
       "      <td>test-dexterity-left</td>\n",
       "      <td>2.220017</td>\n",
       "      <td>0.887634</td>\n",
       "      <td>-0.294464</td>\n",
       "      <td>0.650887</td>\n",
       "      <td>0.906308</td>\n",
       "      <td>0.069652</td>\n",
       "      <td>59.384336</td>\n",
       "    </tr>\n",
       "  </tbody>\n",
       "</table>\n",
       "<p>5 rows × 450 columns</p>\n",
       "</div>"
      ],
      "text/plain": [
       "  event_date_event_time  length  amp_mean   amp_std  amp_p1_1  amp_p1_0  \\\n",
       "0   2016-03-23 07:59:40     9.5  0.067813  0.026396 -0.005764  0.145629   \n",
       "1   2016-03-23 13:26:02     4.5  0.235636  0.053323  0.009891 -0.036371   \n",
       "2   2016-03-23 17:21:20    14.0  0.291795  0.038108 -0.001067  0.307805   \n",
       "3   2016-04-21 08:36:39    14.0  0.045532  0.008919  0.000680  0.035331   \n",
       "4   2016-04-21 14:25:52    11.5  0.063901  0.007733 -0.002030  0.089274   \n",
       "\n",
       "   amp_p2_2  amp_p2_1  amp_p2_0   amp_dfa     ...      touch_meanTKEO  \\\n",
       "0  0.001648 -0.050265  0.432412  1.147517     ...            0.015370   \n",
       "1 -0.001589  0.097261 -1.233078  0.517663     ...            0.094008   \n",
       "2 -0.000465  0.012893  0.211787  0.933830     ...            0.010415   \n",
       "3 -0.000069  0.002736  0.021193  0.665919     ...            0.053223   \n",
       "4  0.000057 -0.003459  0.097524  1.504484     ...            0.004951   \n",
       "\n",
       "   touch_dfa             tap_test    scores  scores_voice  scores_balance  \\\n",
       "0   0.308298                test3  5.142853      0.793692       -0.149937   \n",
       "1   0.460559                test3  8.361742      3.255178       -0.038168   \n",
       "2   0.948880                test3 -0.802608     -0.315440       -0.122640   \n",
       "3   0.675082                test3  5.652584      0.974179       -0.377330   \n",
       "4   0.463658  test-dexterity-left  2.220017      0.887634       -0.294464   \n",
       "\n",
       "   scores_gait  scores_tap scores_react        mPDS  \n",
       "0     2.748769    1.593229     0.157100   81.002964  \n",
       "1     3.901675    1.091663     0.151393  100.000000  \n",
       "2     1.740213   -2.382753     0.278012   37.027620  \n",
       "3     4.147430    0.860689     0.047615   84.773169  \n",
       "4     0.650887    0.906308     0.069652   59.384336  \n",
       "\n",
       "[5 rows x 450 columns]"
      ]
     },
     "execution_count": 139,
     "metadata": {},
     "output_type": "execute_result"
    }
   ],
   "source": [
    "tap2filt.head()"
   ]
  },
  {
   "cell_type": "code",
   "execution_count": 140,
   "metadata": {
    "collapsed": false
   },
   "outputs": [],
   "source": [
    "updrsnew = updrsnew[['event_date_event_time','Record.ID','Event.Name',\n",
    "                     'timed_up_and_go','updrs_part3','updrs_total_score','hoehn_yahr']]"
   ]
  },
  {
   "cell_type": "code",
   "execution_count": 141,
   "metadata": {
    "collapsed": false
   },
   "outputs": [],
   "source": [
    "tap2filt = tap2filt.rename(columns = {'event_date_event_time':'tsp','Record.ID':'id','Event.Name':'event_name'})\n",
    "updrsnew = updrsnew.rename(columns = {'event_date_event_time':'tsp','Record.ID':'id','Event.Name':'event_name'})"
   ]
  },
  {
   "cell_type": "markdown",
   "metadata": {},
   "source": [
    "Below is a similar view of the data from measurements computed in clinic associated with the traditional rating scales. The data is aggregated in a table called updrsnew. Note, however, that all data from all traditional rating scales are included here (not just UPDRS-specific data)."
   ]
  },
  {
   "cell_type": "code",
   "execution_count": 142,
   "metadata": {
    "collapsed": false
   },
   "outputs": [
    {
     "data": {
      "text/plain": [
       "(39, 7)"
      ]
     },
     "execution_count": 142,
     "metadata": {},
     "output_type": "execute_result"
    }
   ],
   "source": [
    "updrsnew.shape"
   ]
  },
  {
   "cell_type": "code",
   "execution_count": 143,
   "metadata": {
    "collapsed": false
   },
   "outputs": [
    {
     "data": {
      "text/html": [
       "<div>\n",
       "<table border=\"1\" class=\"dataframe\">\n",
       "  <thead>\n",
       "    <tr style=\"text-align: right;\">\n",
       "      <th></th>\n",
       "      <th>tsp</th>\n",
       "      <th>id</th>\n",
       "      <th>event_name</th>\n",
       "      <th>timed_up_and_go</th>\n",
       "      <th>updrs_part3</th>\n",
       "      <th>updrs_total_score</th>\n",
       "      <th>hoehn_yahr</th>\n",
       "    </tr>\n",
       "  </thead>\n",
       "  <tbody>\n",
       "    <tr>\n",
       "      <th>0</th>\n",
       "      <td>2016-02-23 16:00:00</td>\n",
       "      <td>udall003</td>\n",
       "      <td>Baseline (enrollment)</td>\n",
       "      <td>13.01</td>\n",
       "      <td>49</td>\n",
       "      <td>114.0</td>\n",
       "      <td>2</td>\n",
       "    </tr>\n",
       "    <tr>\n",
       "      <th>1</th>\n",
       "      <td>2016-05-25 10:30:00</td>\n",
       "      <td>udall003</td>\n",
       "      <td>Month 3</td>\n",
       "      <td>15.90</td>\n",
       "      <td>27</td>\n",
       "      <td>75.0</td>\n",
       "      <td>2</td>\n",
       "    </tr>\n",
       "    <tr>\n",
       "      <th>2</th>\n",
       "      <td>2016-09-14 14:00:00</td>\n",
       "      <td>udall003</td>\n",
       "      <td>Month 6</td>\n",
       "      <td>11.00</td>\n",
       "      <td>19</td>\n",
       "      <td>40.0</td>\n",
       "      <td>3</td>\n",
       "    </tr>\n",
       "    <tr>\n",
       "      <th>3</th>\n",
       "      <td>2016-02-29 15:00:00</td>\n",
       "      <td>udall007</td>\n",
       "      <td>Baseline (enrollment)</td>\n",
       "      <td>9.50</td>\n",
       "      <td>18</td>\n",
       "      <td>38.0</td>\n",
       "      <td>1</td>\n",
       "    </tr>\n",
       "    <tr>\n",
       "      <th>4</th>\n",
       "      <td>2016-06-30 13:00:00</td>\n",
       "      <td>udall007</td>\n",
       "      <td>Month 3</td>\n",
       "      <td>12.00</td>\n",
       "      <td>22</td>\n",
       "      <td>47.0</td>\n",
       "      <td>2</td>\n",
       "    </tr>\n",
       "  </tbody>\n",
       "</table>\n",
       "</div>"
      ],
      "text/plain": [
       "                  tsp        id             event_name  timed_up_and_go  \\\n",
       "0 2016-02-23 16:00:00  udall003  Baseline (enrollment)            13.01   \n",
       "1 2016-05-25 10:30:00  udall003                Month 3            15.90   \n",
       "2 2016-09-14 14:00:00  udall003                Month 6            11.00   \n",
       "3 2016-02-29 15:00:00  udall007  Baseline (enrollment)             9.50   \n",
       "4 2016-06-30 13:00:00  udall007                Month 3            12.00   \n",
       "\n",
       "   updrs_part3  updrs_total_score  hoehn_yahr  \n",
       "0           49              114.0           2  \n",
       "1           27               75.0           2  \n",
       "2           19               40.0           3  \n",
       "3           18               38.0           1  \n",
       "4           22               47.0           2  "
      ]
     },
     "execution_count": 143,
     "metadata": {},
     "output_type": "execute_result"
    }
   ],
   "source": [
    "updrsnew.head()"
   ]
  },
  {
   "cell_type": "code",
   "execution_count": 144,
   "metadata": {
    "collapsed": true
   },
   "outputs": [],
   "source": [
    "pysqldf = lambda q: sqldf(q, globals())"
   ]
  },
  {
   "cell_type": "markdown",
   "metadata": {},
   "source": [
    "Compute rolling join on mPDS and UPDRS tables to match mPDS scores for individuals computed within 2 hours of a UPDRS Part III assessment in clinic."
   ]
  },
  {
   "cell_type": "code",
   "execution_count": 145,
   "metadata": {
    "collapsed": true
   },
   "outputs": [],
   "source": [
    "timejoin = \"SELECT u.*, t.tsp, t.mPDS \\\n",
    "            FROM updrsnew AS u \\\n",
    "            INNER JOIN tap2filt AS t ON u.id = t.id \\\n",
    "            WHERE u.tsp >= datetime(t.tsp,'-60 minute') AND u.tsp <= datetime(t.tsp,'+60 minute');\""
   ]
  },
  {
   "cell_type": "code",
   "execution_count": 146,
   "metadata": {
    "collapsed": false
   },
   "outputs": [],
   "source": [
    "joined = pysqldf(timejoin)"
   ]
  },
  {
   "cell_type": "code",
   "execution_count": 147,
   "metadata": {
    "collapsed": false
   },
   "outputs": [
    {
     "data": {
      "text/html": [
       "<div>\n",
       "<table border=\"1\" class=\"dataframe\">\n",
       "  <thead>\n",
       "    <tr style=\"text-align: right;\">\n",
       "      <th></th>\n",
       "      <th>tsp</th>\n",
       "      <th>id</th>\n",
       "      <th>event_name</th>\n",
       "      <th>timed_up_and_go</th>\n",
       "      <th>updrs_part3</th>\n",
       "      <th>updrs_total_score</th>\n",
       "      <th>hoehn_yahr</th>\n",
       "      <th>tsp</th>\n",
       "      <th>mPDS</th>\n",
       "    </tr>\n",
       "  </thead>\n",
       "  <tbody>\n",
       "    <tr>\n",
       "      <th>0</th>\n",
       "      <td>2016-08-31 08:00:00.000000</td>\n",
       "      <td>udall007</td>\n",
       "      <td>Month 6</td>\n",
       "      <td>7.22</td>\n",
       "      <td>13</td>\n",
       "      <td>28.0</td>\n",
       "      <td>1</td>\n",
       "      <td>2016-08-31 08:32:38.000000</td>\n",
       "      <td>17.805744</td>\n",
       "    </tr>\n",
       "    <tr>\n",
       "      <th>1</th>\n",
       "      <td>2016-08-31 08:00:00.000000</td>\n",
       "      <td>udall007</td>\n",
       "      <td>Month 6</td>\n",
       "      <td>7.22</td>\n",
       "      <td>13</td>\n",
       "      <td>28.0</td>\n",
       "      <td>1</td>\n",
       "      <td>2016-08-31 08:32:38.000000</td>\n",
       "      <td>22.516059</td>\n",
       "    </tr>\n",
       "    <tr>\n",
       "      <th>2</th>\n",
       "      <td>2016-08-08 13:00:00.000000</td>\n",
       "      <td>udall022</td>\n",
       "      <td>Month 3</td>\n",
       "      <td>11.30</td>\n",
       "      <td>27</td>\n",
       "      <td>56.0</td>\n",
       "      <td>2</td>\n",
       "      <td>2016-08-08 13:29:47.000000</td>\n",
       "      <td>44.686500</td>\n",
       "    </tr>\n",
       "    <tr>\n",
       "      <th>3</th>\n",
       "      <td>2016-08-08 13:00:00.000000</td>\n",
       "      <td>udall022</td>\n",
       "      <td>Month 3</td>\n",
       "      <td>11.30</td>\n",
       "      <td>27</td>\n",
       "      <td>56.0</td>\n",
       "      <td>2</td>\n",
       "      <td>2016-08-08 13:29:47.000000</td>\n",
       "      <td>50.245529</td>\n",
       "    </tr>\n",
       "    <tr>\n",
       "      <th>4</th>\n",
       "      <td>2016-11-09 10:00:00.000000</td>\n",
       "      <td>udall022</td>\n",
       "      <td>Month 6</td>\n",
       "      <td>12.62</td>\n",
       "      <td>29</td>\n",
       "      <td>44.0</td>\n",
       "      <td>3</td>\n",
       "      <td>2016-11-09 10:30:38.000000</td>\n",
       "      <td>55.653519</td>\n",
       "    </tr>\n",
       "    <tr>\n",
       "      <th>5</th>\n",
       "      <td>2016-11-09 10:00:00.000000</td>\n",
       "      <td>udall022</td>\n",
       "      <td>Month 6</td>\n",
       "      <td>12.62</td>\n",
       "      <td>29</td>\n",
       "      <td>44.0</td>\n",
       "      <td>3</td>\n",
       "      <td>2016-11-09 10:30:38.000000</td>\n",
       "      <td>60.983522</td>\n",
       "    </tr>\n",
       "    <tr>\n",
       "      <th>6</th>\n",
       "      <td>2016-12-09 16:00:00.000000</td>\n",
       "      <td>udall028</td>\n",
       "      <td>Month 3</td>\n",
       "      <td>11.66</td>\n",
       "      <td>27</td>\n",
       "      <td>31.0</td>\n",
       "      <td>2</td>\n",
       "      <td>2016-12-09 16:36:25.000000</td>\n",
       "      <td>34.300277</td>\n",
       "    </tr>\n",
       "    <tr>\n",
       "      <th>7</th>\n",
       "      <td>2016-12-09 16:00:00.000000</td>\n",
       "      <td>udall028</td>\n",
       "      <td>Month 3</td>\n",
       "      <td>11.66</td>\n",
       "      <td>27</td>\n",
       "      <td>31.0</td>\n",
       "      <td>2</td>\n",
       "      <td>2016-12-09 16:36:25.000000</td>\n",
       "      <td>24.595080</td>\n",
       "    </tr>\n",
       "    <tr>\n",
       "      <th>8</th>\n",
       "      <td>2017-02-10 14:30:00.000000</td>\n",
       "      <td>udall028</td>\n",
       "      <td>Month 6</td>\n",
       "      <td>8.70</td>\n",
       "      <td>21</td>\n",
       "      <td>44.0</td>\n",
       "      <td>2</td>\n",
       "      <td>2017-02-10 15:21:29.000000</td>\n",
       "      <td>37.788182</td>\n",
       "    </tr>\n",
       "    <tr>\n",
       "      <th>9</th>\n",
       "      <td>2017-02-10 14:30:00.000000</td>\n",
       "      <td>udall028</td>\n",
       "      <td>Month 6</td>\n",
       "      <td>8.70</td>\n",
       "      <td>21</td>\n",
       "      <td>44.0</td>\n",
       "      <td>2</td>\n",
       "      <td>2017-02-10 15:21:29.000000</td>\n",
       "      <td>34.661795</td>\n",
       "    </tr>\n",
       "    <tr>\n",
       "      <th>10</th>\n",
       "      <td>2016-12-09 16:00:00.000000</td>\n",
       "      <td>udall029</td>\n",
       "      <td>Month 3</td>\n",
       "      <td>9.23</td>\n",
       "      <td>0</td>\n",
       "      <td>7.0</td>\n",
       "      <td>0</td>\n",
       "      <td>2016-12-09 16:12:07.000000</td>\n",
       "      <td>12.023398</td>\n",
       "    </tr>\n",
       "    <tr>\n",
       "      <th>11</th>\n",
       "      <td>2016-12-09 16:00:00.000000</td>\n",
       "      <td>udall029</td>\n",
       "      <td>Month 3</td>\n",
       "      <td>9.23</td>\n",
       "      <td>0</td>\n",
       "      <td>7.0</td>\n",
       "      <td>0</td>\n",
       "      <td>2016-12-09 16:12:07.000000</td>\n",
       "      <td>8.052830</td>\n",
       "    </tr>\n",
       "    <tr>\n",
       "      <th>12</th>\n",
       "      <td>2017-02-10 14:30:00.000000</td>\n",
       "      <td>udall029</td>\n",
       "      <td>Month 6</td>\n",
       "      <td>6.64</td>\n",
       "      <td>3</td>\n",
       "      <td>NaN</td>\n",
       "      <td>0</td>\n",
       "      <td>2017-02-10 15:29:37.000000</td>\n",
       "      <td>16.331964</td>\n",
       "    </tr>\n",
       "    <tr>\n",
       "      <th>13</th>\n",
       "      <td>2017-02-10 14:30:00.000000</td>\n",
       "      <td>udall029</td>\n",
       "      <td>Month 6</td>\n",
       "      <td>6.64</td>\n",
       "      <td>3</td>\n",
       "      <td>NaN</td>\n",
       "      <td>0</td>\n",
       "      <td>2017-02-10 15:29:37.000000</td>\n",
       "      <td>15.019129</td>\n",
       "    </tr>\n",
       "    <tr>\n",
       "      <th>14</th>\n",
       "      <td>2016-11-28 13:30:00.000000</td>\n",
       "      <td>udall034</td>\n",
       "      <td>Month 3</td>\n",
       "      <td>14.96</td>\n",
       "      <td>26</td>\n",
       "      <td>33.0</td>\n",
       "      <td>2</td>\n",
       "      <td>2016-11-28 13:51:14.000000</td>\n",
       "      <td>41.054742</td>\n",
       "    </tr>\n",
       "    <tr>\n",
       "      <th>15</th>\n",
       "      <td>2016-11-28 13:30:00.000000</td>\n",
       "      <td>udall034</td>\n",
       "      <td>Month 3</td>\n",
       "      <td>14.96</td>\n",
       "      <td>26</td>\n",
       "      <td>33.0</td>\n",
       "      <td>2</td>\n",
       "      <td>2016-11-28 13:51:14.000000</td>\n",
       "      <td>49.270668</td>\n",
       "    </tr>\n",
       "  </tbody>\n",
       "</table>\n",
       "</div>"
      ],
      "text/plain": [
       "                           tsp        id event_name  timed_up_and_go  \\\n",
       "0   2016-08-31 08:00:00.000000  udall007    Month 6             7.22   \n",
       "1   2016-08-31 08:00:00.000000  udall007    Month 6             7.22   \n",
       "2   2016-08-08 13:00:00.000000  udall022    Month 3            11.30   \n",
       "3   2016-08-08 13:00:00.000000  udall022    Month 3            11.30   \n",
       "4   2016-11-09 10:00:00.000000  udall022    Month 6            12.62   \n",
       "5   2016-11-09 10:00:00.000000  udall022    Month 6            12.62   \n",
       "6   2016-12-09 16:00:00.000000  udall028    Month 3            11.66   \n",
       "7   2016-12-09 16:00:00.000000  udall028    Month 3            11.66   \n",
       "8   2017-02-10 14:30:00.000000  udall028    Month 6             8.70   \n",
       "9   2017-02-10 14:30:00.000000  udall028    Month 6             8.70   \n",
       "10  2016-12-09 16:00:00.000000  udall029    Month 3             9.23   \n",
       "11  2016-12-09 16:00:00.000000  udall029    Month 3             9.23   \n",
       "12  2017-02-10 14:30:00.000000  udall029    Month 6             6.64   \n",
       "13  2017-02-10 14:30:00.000000  udall029    Month 6             6.64   \n",
       "14  2016-11-28 13:30:00.000000  udall034    Month 3            14.96   \n",
       "15  2016-11-28 13:30:00.000000  udall034    Month 3            14.96   \n",
       "\n",
       "    updrs_part3  updrs_total_score  hoehn_yahr                         tsp  \\\n",
       "0            13               28.0           1  2016-08-31 08:32:38.000000   \n",
       "1            13               28.0           1  2016-08-31 08:32:38.000000   \n",
       "2            27               56.0           2  2016-08-08 13:29:47.000000   \n",
       "3            27               56.0           2  2016-08-08 13:29:47.000000   \n",
       "4            29               44.0           3  2016-11-09 10:30:38.000000   \n",
       "5            29               44.0           3  2016-11-09 10:30:38.000000   \n",
       "6            27               31.0           2  2016-12-09 16:36:25.000000   \n",
       "7            27               31.0           2  2016-12-09 16:36:25.000000   \n",
       "8            21               44.0           2  2017-02-10 15:21:29.000000   \n",
       "9            21               44.0           2  2017-02-10 15:21:29.000000   \n",
       "10            0                7.0           0  2016-12-09 16:12:07.000000   \n",
       "11            0                7.0           0  2016-12-09 16:12:07.000000   \n",
       "12            3                NaN           0  2017-02-10 15:29:37.000000   \n",
       "13            3                NaN           0  2017-02-10 15:29:37.000000   \n",
       "14           26               33.0           2  2016-11-28 13:51:14.000000   \n",
       "15           26               33.0           2  2016-11-28 13:51:14.000000   \n",
       "\n",
       "         mPDS  \n",
       "0   17.805744  \n",
       "1   22.516059  \n",
       "2   44.686500  \n",
       "3   50.245529  \n",
       "4   55.653519  \n",
       "5   60.983522  \n",
       "6   34.300277  \n",
       "7   24.595080  \n",
       "8   37.788182  \n",
       "9   34.661795  \n",
       "10  12.023398  \n",
       "11   8.052830  \n",
       "12  16.331964  \n",
       "13  15.019129  \n",
       "14  41.054742  \n",
       "15  49.270668  "
      ]
     },
     "execution_count": 147,
     "metadata": {},
     "output_type": "execute_result"
    }
   ],
   "source": [
    "joined"
   ]
  },
  {
   "cell_type": "markdown",
   "metadata": {},
   "source": [
    "There are 16 points that match the cross-sectional criterion. We use these points to generate the cross-sectional correlation matrix reported in the main text between mPDS and four traditional rating scales (MDS-UPDRS Part III, MDS-UPDRS Total Score, Timed-Up-And-Go, and Hoehn & Yahr)."
   ]
  },
  {
   "cell_type": "code",
   "execution_count": 149,
   "metadata": {
    "collapsed": false
   },
   "outputs": [
    {
     "data": {
      "text/html": [
       "<div>\n",
       "<table border=\"1\" class=\"dataframe\">\n",
       "  <thead>\n",
       "    <tr style=\"text-align: right;\">\n",
       "      <th></th>\n",
       "      <th>mPDS</th>\n",
       "      <th>MDS-UPDRS Part III Score</th>\n",
       "      <th>MDS-UPDRS Total Score</th>\n",
       "      <th>Timed-Up-And-Go</th>\n",
       "      <th>Hoehn &amp; Yahr Stage</th>\n",
       "    </tr>\n",
       "  </thead>\n",
       "  <tbody>\n",
       "    <tr>\n",
       "      <th>mPDS</th>\n",
       "      <td>1.000000</td>\n",
       "      <td>0.878290</td>\n",
       "      <td>0.808190</td>\n",
       "      <td>0.721323</td>\n",
       "      <td>0.914406</td>\n",
       "    </tr>\n",
       "    <tr>\n",
       "      <th>MDS-UPDRS Part III Score</th>\n",
       "      <td>0.878290</td>\n",
       "      <td>1.000000</td>\n",
       "      <td>0.820938</td>\n",
       "      <td>0.736442</td>\n",
       "      <td>0.962517</td>\n",
       "    </tr>\n",
       "    <tr>\n",
       "      <th>MDS-UPDRS Total Score</th>\n",
       "      <td>0.808190</td>\n",
       "      <td>0.820938</td>\n",
       "      <td>1.000000</td>\n",
       "      <td>0.266211</td>\n",
       "      <td>0.803589</td>\n",
       "    </tr>\n",
       "    <tr>\n",
       "      <th>Timed-Up-And-Go</th>\n",
       "      <td>0.721323</td>\n",
       "      <td>0.736442</td>\n",
       "      <td>0.266211</td>\n",
       "      <td>1.000000</td>\n",
       "      <td>0.697100</td>\n",
       "    </tr>\n",
       "    <tr>\n",
       "      <th>Hoehn &amp; Yahr Stage</th>\n",
       "      <td>0.914406</td>\n",
       "      <td>0.962517</td>\n",
       "      <td>0.803589</td>\n",
       "      <td>0.697100</td>\n",
       "      <td>1.000000</td>\n",
       "    </tr>\n",
       "  </tbody>\n",
       "</table>\n",
       "</div>"
      ],
      "text/plain": [
       "                              mPDS  MDS-UPDRS Part III Score  \\\n",
       "mPDS                      1.000000                  0.878290   \n",
       "MDS-UPDRS Part III Score  0.878290                  1.000000   \n",
       "MDS-UPDRS Total Score     0.808190                  0.820938   \n",
       "Timed-Up-And-Go           0.721323                  0.736442   \n",
       "Hoehn & Yahr Stage        0.914406                  0.962517   \n",
       "\n",
       "                          MDS-UPDRS Total Score  Timed-Up-And-Go  \\\n",
       "mPDS                                   0.808190         0.721323   \n",
       "MDS-UPDRS Part III Score               0.820938         0.736442   \n",
       "MDS-UPDRS Total Score                  1.000000         0.266211   \n",
       "Timed-Up-And-Go                        0.266211         1.000000   \n",
       "Hoehn & Yahr Stage                     0.803589         0.697100   \n",
       "\n",
       "                          Hoehn & Yahr Stage  \n",
       "mPDS                                0.914406  \n",
       "MDS-UPDRS Part III Score            0.962517  \n",
       "MDS-UPDRS Total Score               0.803589  \n",
       "Timed-Up-And-Go                     0.697100  \n",
       "Hoehn & Yahr Stage                  1.000000  "
      ]
     },
     "execution_count": 149,
     "metadata": {},
     "output_type": "execute_result"
    }
   ],
   "source": [
    "corr_matrix = joined[['mPDS','updrs_part3','updrs_total_score','timed_up_and_go','hoehn_yahr']]\n",
    "corr_matrix = corr_matrix.rename(columns = {'updrs_part3':'MDS-UPDRS Part III Score',\n",
    "                                            'updrs_total_score':'MDS-UPDRS Total Score',\n",
    "                                            'timed_up_and_go':'Timed-Up-And-Go',\n",
    "                                            'hoehn_yahr':'Hoehn & Yahr Stage',\n",
    "                                            'mPDS':'mPDS'})\n",
    "corr_matrix = corr_matrix.corr()\n",
    "corr_matrix"
   ]
  },
  {
   "cell_type": "markdown",
   "metadata": {},
   "source": [
    "Although not included in the main text, below is a cross-sectional scatterplot illustrating this same point considering just the correlations between mPDS and the four remaining rating scales (as opposed to the correlations between each pair of rating scales conveyed by the cross-correlation matrix above)."
   ]
  },
  {
   "cell_type": "code",
   "execution_count": 150,
   "metadata": {
    "collapsed": true
   },
   "outputs": [],
   "source": [
    "fig, ((ax1, ax2), (ax3, ax4)) = plt.subplots(nrows=2, ncols=2, figsize=(12,12))"
   ]
  },
  {
   "cell_type": "code",
   "execution_count": 151,
   "metadata": {
    "collapsed": false
   },
   "outputs": [],
   "source": [
    "total_score = joined.dropna(subset=['updrs_total_score'])"
   ]
  },
  {
   "cell_type": "markdown",
   "metadata": {},
   "source": [
    "The cell below generates the parameters of the lines of best fit for each of the four cross-sectional scatterplots (mPDS vs. each other test)."
   ]
  },
  {
   "cell_type": "code",
   "execution_count": 152,
   "metadata": {
    "collapsed": true
   },
   "outputs": [],
   "source": [
    "fit1 = np.polyfit(joined.mPDS, joined.updrs_part3, deg=1)\n",
    "fit2 = np.polyfit(total_score.mPDS, total_score.updrs_total_score, deg=1)\n",
    "fit3 = np.polyfit(joined.mPDS, joined.hoehn_yahr, deg=1)\n",
    "fit4 = np.polyfit(joined.mPDS,joined.timed_up_and_go, deg=1)"
   ]
  },
  {
   "cell_type": "code",
   "execution_count": 153,
   "metadata": {
    "collapsed": false
   },
   "outputs": [],
   "source": [
    "corr1 = \"%.2f\" % corr_matrix.iloc[0,1]\n",
    "corr2 = \"%.2f\" % corr_matrix.iloc[0,2]\n",
    "corr3 = \"%.2f\" % corr_matrix.iloc[0,3]\n",
    "corr4 = \"%.2f\" % corr_matrix.iloc[0,4]"
   ]
  },
  {
   "cell_type": "code",
   "execution_count": 154,
   "metadata": {
    "collapsed": false
   },
   "outputs": [
    {
     "data": {
      "image/png": "[encoded data removed]",
      "text/plain": [
       "<matplotlib.figure.Figure at 0x10bdb6128>"
      ]
     },
     "metadata": {},
     "output_type": "display_data"
    }
   ],
   "source": [
    "ax1.set_title(\"mPDS vs. MDS-UPDRS Part III Score (r: \" + str(corr1) + \")\")\n",
    "ax2.set_title(\"mPDS vs. MDS-UPDRS Total Score (r: \" + str(corr2) + \")\")\n",
    "ax3.set_title(\"mPDS vs. Hoehn & Yahr (r: \" + str(corr4) + \")\")\n",
    "ax4.set_title(\"mPDS vs. Timed-Up-And-Go (r: \" + str(corr3) + \")\")\n",
    "ax1.set_ylabel('MDS-UPDRS Motor (Part III) Score')\n",
    "ax2.set_ylabel('MDS-UPDRS Motor Total Score')\n",
    "ax3.set_ylabel('Hoehn & Yahr Stage')\n",
    "ax4.set_ylabel('Timed-Up-And-Go (sec)')\n",
    "ax1.set_xlabel('mPDS')\n",
    "ax2.set_xlabel('mPDS')\n",
    "ax3.set_xlabel('mPDS')\n",
    "ax4.set_xlabel('mPDS')\n",
    "ax1.scatter(joined.mPDS,joined.updrs_part3)\n",
    "ax2.scatter(total_score.mPDS,total_score.updrs_total_score)\n",
    "ax3.scatter(joined.mPDS,joined.hoehn_yahr)\n",
    "ax4.scatter(joined.mPDS,joined.timed_up_and_go)\n",
    "ax1.plot(joined.mPDS, fit1[0] * joined.mPDS + fit1[1], color='firebrick')\n",
    "ax2.plot(total_score.mPDS, fit2[0] * total_score.mPDS + fit2[1], color='firebrick')\n",
    "ax3.plot(joined.mPDS, fit3[0] * joined.mPDS + fit3[1], color='firebrick')\n",
    "ax4.plot(joined.mPDS, fit4[0] * joined.mPDS + fit4[1], color='firebrick')\n",
    "plt.show()"
   ]
  },
  {
   "cell_type": "markdown",
   "metadata": {},
   "source": [
    "The code below reads from differences.txt, a file recording the timestamps, UPDRS Part III scores, and mPDS scores to compute the average intraday change in mPDS in the clinic cohort in response to dopaminergic therapy."
   ]
  },
  {
   "cell_type": "code",
   "execution_count": 155,
   "metadata": {
    "collapsed": false
   },
   "outputs": [
    {
     "data": {
      "text/html": [
       "<div>\n",
       "<table border=\"1\" class=\"dataframe\">\n",
       "  <thead>\n",
       "    <tr style=\"text-align: right;\">\n",
       "      <th></th>\n",
       "      <th>id</th>\n",
       "      <th>tsp</th>\n",
       "      <th>updrs_part3</th>\n",
       "      <th>timed_up_and_go</th>\n",
       "      <th>updrs_total</th>\n",
       "      <th>updrs_part3_on</th>\n",
       "      <th>p3_diff</th>\n",
       "      <th>score_diff</th>\n",
       "      <th>tsp_diff</th>\n",
       "      <th>max_s</th>\n",
       "      <th>min_s</th>\n",
       "      <th>updrs_diff_ratio</th>\n",
       "      <th>mPDS_diff_ratio</th>\n",
       "    </tr>\n",
       "  </thead>\n",
       "  <tbody>\n",
       "    <tr>\n",
       "      <th>0</th>\n",
       "      <td>udall007</td>\n",
       "      <td>2016-08-31 08:00:00</td>\n",
       "      <td>26.0</td>\n",
       "      <td>7.22</td>\n",
       "      <td>28.0</td>\n",
       "      <td>13.0</td>\n",
       "      <td>13.0</td>\n",
       "      <td>22.516059</td>\n",
       "      <td>19:46:02</td>\n",
       "      <td>22.516059</td>\n",
       "      <td>0.000000</td>\n",
       "      <td>0.500000</td>\n",
       "      <td>1.000000</td>\n",
       "    </tr>\n",
       "    <tr>\n",
       "      <th>1</th>\n",
       "      <td>udall020</td>\n",
       "      <td>2016-10-19 08:00:00</td>\n",
       "      <td>13.0</td>\n",
       "      <td>5.63</td>\n",
       "      <td>17.0</td>\n",
       "      <td>9.0</td>\n",
       "      <td>4.0</td>\n",
       "      <td>14.062607</td>\n",
       "      <td>0:00:00</td>\n",
       "      <td>61.847771</td>\n",
       "      <td>47.785164</td>\n",
       "      <td>0.307692</td>\n",
       "      <td>0.227375</td>\n",
       "    </tr>\n",
       "    <tr>\n",
       "      <th>2</th>\n",
       "      <td>udall022</td>\n",
       "      <td>2016-11-09 10:00:00</td>\n",
       "      <td>43.0</td>\n",
       "      <td>12.62</td>\n",
       "      <td>44.0</td>\n",
       "      <td>29.0</td>\n",
       "      <td>14.0</td>\n",
       "      <td>8.510881</td>\n",
       "      <td>17:04:57</td>\n",
       "      <td>60.983522</td>\n",
       "      <td>52.472640</td>\n",
       "      <td>0.325581</td>\n",
       "      <td>0.139560</td>\n",
       "    </tr>\n",
       "    <tr>\n",
       "      <th>3</th>\n",
       "      <td>udall028</td>\n",
       "      <td>2017-02-10 14:30:00</td>\n",
       "      <td>34.0</td>\n",
       "      <td>10.01</td>\n",
       "      <td>44.0</td>\n",
       "      <td>21.0</td>\n",
       "      <td>13.0</td>\n",
       "      <td>17.127671</td>\n",
       "      <td>22:27:00</td>\n",
       "      <td>51.789467</td>\n",
       "      <td>34.661795</td>\n",
       "      <td>0.382353</td>\n",
       "      <td>0.330717</td>\n",
       "    </tr>\n",
       "    <tr>\n",
       "      <th>4</th>\n",
       "      <td>udall068</td>\n",
       "      <td>2017-05-24 11:00:00</td>\n",
       "      <td>32.0</td>\n",
       "      <td>12.12</td>\n",
       "      <td>67.0</td>\n",
       "      <td>16.0</td>\n",
       "      <td>16.0</td>\n",
       "      <td>15.501970</td>\n",
       "      <td>14:46:08</td>\n",
       "      <td>45.145513</td>\n",
       "      <td>29.643543</td>\n",
       "      <td>0.500000</td>\n",
       "      <td>0.343378</td>\n",
       "    </tr>\n",
       "    <tr>\n",
       "      <th>5</th>\n",
       "      <td>udall085</td>\n",
       "      <td>2017-10-04 10:05:00</td>\n",
       "      <td>20.0</td>\n",
       "      <td>11.92</td>\n",
       "      <td>29.0</td>\n",
       "      <td>13.0</td>\n",
       "      <td>7.0</td>\n",
       "      <td>24.458694</td>\n",
       "      <td>1:01:54</td>\n",
       "      <td>43.271440</td>\n",
       "      <td>18.812745</td>\n",
       "      <td>0.350000</td>\n",
       "      <td>0.565239</td>\n",
       "    </tr>\n",
       "    <tr>\n",
       "      <th>7</th>\n",
       "      <td>udall099</td>\n",
       "      <td>2017-09-08 13:15:00</td>\n",
       "      <td>16.0</td>\n",
       "      <td>6.65</td>\n",
       "      <td>None</td>\n",
       "      <td>10.0</td>\n",
       "      <td>6.0</td>\n",
       "      <td>12.110164</td>\n",
       "      <td>0:29:38</td>\n",
       "      <td>43.102447</td>\n",
       "      <td>30.992283</td>\n",
       "      <td>0.375000</td>\n",
       "      <td>0.280962</td>\n",
       "    </tr>\n",
       "  </tbody>\n",
       "</table>\n",
       "</div>"
      ],
      "text/plain": [
       "         id                  tsp  updrs_part3  timed_up_and_go updrs_total  \\\n",
       "0  udall007  2016-08-31 08:00:00         26.0             7.22        28.0   \n",
       "1  udall020  2016-10-19 08:00:00         13.0             5.63        17.0   \n",
       "2  udall022  2016-11-09 10:00:00         43.0            12.62        44.0   \n",
       "3  udall028  2017-02-10 14:30:00         34.0            10.01        44.0   \n",
       "4  udall068  2017-05-24 11:00:00         32.0            12.12        67.0   \n",
       "5  udall085  2017-10-04 10:05:00         20.0            11.92        29.0   \n",
       "7  udall099  2017-09-08 13:15:00         16.0             6.65        None   \n",
       "\n",
       "   updrs_part3_on  p3_diff  score_diff  tsp_diff      max_s      min_s  \\\n",
       "0            13.0     13.0   22.516059  19:46:02  22.516059   0.000000   \n",
       "1             9.0      4.0   14.062607   0:00:00  61.847771  47.785164   \n",
       "2            29.0     14.0    8.510881  17:04:57  60.983522  52.472640   \n",
       "3            21.0     13.0   17.127671  22:27:00  51.789467  34.661795   \n",
       "4            16.0     16.0   15.501970  14:46:08  45.145513  29.643543   \n",
       "5            13.0      7.0   24.458694   1:01:54  43.271440  18.812745   \n",
       "7            10.0      6.0   12.110164   0:29:38  43.102447  30.992283   \n",
       "\n",
       "   updrs_diff_ratio  mPDS_diff_ratio  \n",
       "0          0.500000         1.000000  \n",
       "1          0.307692         0.227375  \n",
       "2          0.325581         0.139560  \n",
       "3          0.382353         0.330717  \n",
       "4          0.500000         0.343378  \n",
       "5          0.350000         0.565239  \n",
       "7          0.375000         0.280962  "
      ]
     },
     "execution_count": 155,
     "metadata": {},
     "output_type": "execute_result"
    }
   ],
   "source": [
    "diff = pd.read_csv('differences.txt', sep='\\t')\n",
    "diff = diff.drop_duplicates(subset=['id'])\n",
    "diff['updrs_diff_ratio'] = diff.p3_diff / diff.updrs_part3\n",
    "diff['mPDS_diff_ratio'] = diff.score_diff / diff.max_s\n",
    "del diff['count']\n",
    "diff"
   ]
  },
  {
   "cell_type": "markdown",
   "metadata": {},
   "source": [
    "Average intraday reduction in mPDS in response to dopaminergic therapy in the clinic cohort."
   ]
  },
  {
   "cell_type": "code",
   "execution_count": 156,
   "metadata": {
    "collapsed": false
   },
   "outputs": [
    {
     "data": {
      "text/plain": [
       "16.326863747098571"
      ]
     },
     "execution_count": 156,
     "metadata": {},
     "output_type": "execute_result"
    }
   ],
   "source": [
    "diff.score_diff.mean()"
   ]
  },
  {
   "cell_type": "markdown",
   "metadata": {},
   "source": [
    "Standard Deviation in intraday reduction in mPDS in repsonse to dopaminergic therapy in the clinic cohort."
   ]
  },
  {
   "cell_type": "code",
   "execution_count": 157,
   "metadata": {
    "collapsed": false
   },
   "outputs": [
    {
     "data": {
      "text/plain": [
       "5.6236337711381337"
      ]
     },
     "execution_count": 157,
     "metadata": {},
     "output_type": "execute_result"
    }
   ],
   "source": [
    "diff.score_diff.std()"
   ]
  }
 ],
 "metadata": {
  "kernelspec": {
   "display_name": "Python 3",
   "language": "python",
   "name": "python3"
  },
  "language_info": {
   "codemirror_mode": {
    "name": "ipython",
    "version": 3
   },
   "file_extension": ".py",
   "mimetype": "text/x-python",
   "name": "python",
   "nbconvert_exporter": "python",
   "pygments_lexer": "ipython3",
   "version": "3.5.2"
  }
 },
 "nbformat": 4,
 "nbformat_minor": 2
}
